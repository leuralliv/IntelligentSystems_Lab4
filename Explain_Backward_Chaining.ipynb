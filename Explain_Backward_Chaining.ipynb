{
 "cells": [
  {
   "cell_type": "markdown",
   "id": "1046bd07-4dae-4341-afbd-607d9fd17efb",
   "metadata": {},
   "source": [
    "### Definition of terms:\n",
    "\n",
    "**Antecedents** - a thing or event that existed before one another\n",
    "\n",
    "**Consequents** - A conclusion, a result of or an event after the antecedents.\n",
    "\n",
    "**goal** - the target of the backward chaining to check if the goal matches the added rules"
   ]
  },
  {
   "cell_type": "raw",
   "id": "fed85179-1838-4600-ac27-328f48e393b9",
   "metadata": {},
   "source": [
    "Defining class and initializing constructor.\n",
    "Facts are used to check if the added rule matches the qualities of the goal.\n",
    "Rules are used to make a hypotheses from the added facts to conclude that the goal has similarities from the added rule after checking."
   ]
  },
  {
   "cell_type": "code",
   "execution_count": null,
   "id": "fedaf84c-c732-4357-9a25-cbdea64693cd",
   "metadata": {},
   "outputs": [],
   "source": [
    "class ExpertSystem:\n",
    "    def __init__(self):\n",
    "        self.facts = set()\n",
    "        self.rules = [] "
   ]
  },
  {
   "cell_type": "markdown",
   "id": "df0f78e8-7ce9-499f-8f42-9b9357954199",
   "metadata": {},
   "source": [
    "Functions fact and rules to be added"
   ]
  },
  {
   "cell_type": "code",
   "execution_count": null,
   "id": "5073666d-1494-4908-a1e3-4f76c3d6ead3",
   "metadata": {},
   "outputs": [],
   "source": [
    "    def add_fact(self, fact):\n",
    "        self.facts.add(fact) # Add a known fact\n",
    "\n",
    "    def add_rule(self, rule):\n",
    "        self.rules.append(rule) # Add a rule"
   ]
  },
  {
   "cell_type": "markdown",
   "id": "66f702f1-52f4-4bab-ba8e-22db64afd236",
   "metadata": {},
   "source": [
    "We will add forward reasoning later. For now, do nothing here."
   ]
  },
  {
   "cell_type": "code",
   "execution_count": null,
   "id": "c891dd46-6f1b-4949-b260-cefc09dc96da",
   "metadata": {},
   "outputs": [],
   "source": [
    "    def infer_forward(self):\n",
    "        pass "
   ]
  },
  {
   "cell_type": "markdown",
   "id": "09d83a44-f6b5-45bb-a1b2-b5c67fb7371a",
   "metadata": {},
   "source": [
    "visited keeps track of which goals have been checked already (to avoid infinite loops)."
   ]
  },
  {
   "cell_type": "code",
   "execution_count": null,
   "id": "7f237ceb-ff19-4486-af48-049f386cece5",
   "metadata": {},
   "outputs": [],
   "source": [
    "    def infer_backward(self, goal, visited=None): \n",
    "        if visited is None:\n",
    "            visited = set()\n",
    "\n",
    "        print(f\"Checking goal: {goal}\") #print what was checking"
   ]
  },
  {
   "cell_type": "markdown",
   "id": "92a16d65-03ef-4b90-ae1d-5d76e6958aab",
   "metadata": {},
   "source": [
    "Stop if already checked. To avoid infinite loop."
   ]
  },
  {
   "cell_type": "code",
   "execution_count": null,
   "id": "95e062a7-4f5a-456a-8230-64f0c461ed92",
   "metadata": {},
   "outputs": [],
   "source": [
    "        if goal in visited:\n",
    "            return False\n",
    "\n",
    "        visited.add(goal) # then mark as visited"
   ]
  },
  {
   "cell_type": "raw",
   "id": "6bf8bb68-0c43-472f-9e20-273314926905",
   "metadata": {},
   "source": [
    "if it's in the self.facts then print \"is a known fact\" and return True that the goal has matched the facts."
   ]
  },
  {
   "cell_type": "code",
   "execution_count": null,
   "id": "5cdbc586-1484-4fbd-bdca-41f0e01ea35d",
   "metadata": {},
   "outputs": [],
   "source": [
    "        if goal in self.facts:\n",
    "            print(f\"'{goal}' is a known fact.\")\n",
    "            return True"
   ]
  },
  {
   "cell_type": "raw",
   "id": "c941f913-db7f-425c-8fd1-5a860a6c9355",
   "metadata": {},
   "source": [
    "Collect rules that can conclude this goal.\n",
    "Example: If the goal is \"cheetah\", it looks for rules whose consequent is \"cheetah\"."
   ]
  },
  {
   "cell_type": "code",
   "execution_count": null,
   "id": "592d531d-08bf-4b31-a943-71672eda5ab4",
   "metadata": {},
   "outputs": [],
   "source": [
    "        applicable_rules = []\n",
    "        for rule in self.rules:\n",
    "            if rule['consequent'] == goal:\n",
    "                applicable_rules.append(rule)"
   ]
  },
  {
   "cell_type": "raw",
   "id": "834c678b-1246-4f61-86af-7581566b788a",
   "metadata": {},
   "source": [
    "if there is no consequent from the rule that is similar to the goal then it will print \"is unknown. No rules conclude it.\""
   ]
  },
  {
   "cell_type": "code",
   "execution_count": null,
   "id": "be8ef41f-99f0-4e2d-a178-901c892baf24",
   "metadata": {},
   "outputs": [],
   "source": [
    "        if not applicable_rules:\n",
    "            print(f\"'{goal}' is unknown. No rules conclude it.\")\n",
    "            return False"
   ]
  },
  {
   "cell_type": "raw",
   "id": "34c4b387-8078-4f55-8fc1-993f4889b426",
   "metadata": {},
   "source": [
    "Each rule has antecedents (conditions) and a consequent (conclusion).\n",
    "\n",
    "Example: IF facts are \"has_fur\", \"eats_meat\", \"has_dark_spots\", \"has_tawny_colors\" THEN \"cheetah\"."
   ]
  },
  {
   "cell_type": "code",
   "execution_count": null,
   "id": "d64fdc3d-c42e-4703-8e7e-ad3d2ef59419",
   "metadata": {},
   "outputs": [],
   "source": [
    "        for rule in applicable_rules:\n",
    "            print(f\"Attempting to prove rule: IF {', '.join(rule['antecedent'])} THEN {rule['consequent']}\")\n",
    "            all_antecedents_proven = True"
   ]
  },
  {
   "cell_type": "raw",
   "id": "166c81ba-c976-4350-b405-9882132398d0",
   "metadata": {},
   "source": [
    "checks all conditions recursively\n",
    "Calls infer_backward again for each condition.\n",
    "\n",
    "Example: To prove \"cheetah\", prove \"has_fur\", \"eats_meat\", \"has_dark_spots\"."
   ]
  },
  {
   "cell_type": "code",
   "execution_count": null,
   "id": "0e76111f-1065-409b-91c1-aa99442a1bc2",
   "metadata": {},
   "outputs": [],
   "source": [
    "            for condition in rule['antecedent']:\n",
    "                if not self.infer_backward(condition, visited.copy()):\n",
    "                    all_antecedents_proven = False\n",
    "                    break"
   ]
  },
  {
   "cell_type": "raw",
   "id": "e23fb4e1-c13c-42ee-99fb-7d0e9467a998",
   "metadata": {},
   "source": [
    "If all conditions are true.\n",
    "If every antecedent is proven, the goal is true.\n",
    "\n",
    "Add it to facts for future use."
   ]
  },
  {
   "cell_type": "code",
   "execution_count": null,
   "id": "458a6acb-b897-4031-9d94-dfa67a9c9e3a",
   "metadata": {},
   "outputs": [],
   "source": [
    "            if all_antecedents_proven:\n",
    "                print(f\"All conditions for '{goal}' are proven. Adding to facts.\")\n",
    "                self.add_fact(goal)\n",
    "                return True"
   ]
  },
  {
   "cell_type": "raw",
   "id": "4781063a-5859-41a7-bdba-eed73eef7437",
   "metadata": {},
   "source": [
    "if not all conditions are true"
   ]
  },
  {
   "cell_type": "code",
   "execution_count": null,
   "id": "476a88b9-1c4c-4c90-835b-23158d3251c3",
   "metadata": {},
   "outputs": [],
   "source": [
    "        print(f\"Not all conditions for '{goal}' could be proven.\")\n",
    "        return False"
   ]
  },
  {
   "cell_type": "markdown",
   "id": "692abbce-76db-4c0d-a0df-a46f747c0015",
   "metadata": {},
   "source": [
    "# Backward Chaining: Replaced True/False with percentage as a conclusion"
   ]
  },
  {
   "cell_type": "raw",
   "id": "abaf1eb3-16b2-4f22-92f0-0395f014fb1f",
   "metadata": {},
   "source": [
    "goal: the thing you want to prove (example: \"lion\").\n",
    "\n",
    "visited: keeps track of what’s already being checked (to avoid infinite loops)."
   ]
  },
  {
   "cell_type": "code",
   "execution_count": 1,
   "id": "b01b1773-d3f5-4ac0-b6e3-70bc542bd92b",
   "metadata": {},
   "outputs": [],
   "source": [
    "def infer_backward(self, goal, visited=None): \n",
    "    if visited is None:\n",
    "        visited = set()\n"
   ]
  },
  {
   "cell_type": "raw",
   "id": "5074f22e-9672-492c-9f38-84a81c757cc3",
   "metadata": {},
   "source": [
    "If we’ve already tried to prove this goal, return 0 to avoid looping forever."
   ]
  },
  {
   "cell_type": "code",
   "execution_count": null,
   "id": "4b556db6-f578-4e77-bc53-13dbb26b6081",
   "metadata": {},
   "outputs": [],
   "source": [
    "    if goal in visited:\n",
    "        return 0\n",
    "    visited.add(goal)\n"
   ]
  },
  {
   "cell_type": "raw",
   "id": "13059812-7206-4d09-aca5-ff6fbbf60b67",
   "metadata": {},
   "source": [
    "If goal is in known fact. 100% certainty"
   ]
  },
  {
   "cell_type": "code",
   "execution_count": null,
   "id": "36a1085d-5a5b-4a76-8b24-20a06a2e4098",
   "metadata": {},
   "outputs": [],
   "source": [
    "    if goal in self.facts:\n",
    "        print(f\"'{goal}' is a known fact. (100%)\")\n",
    "        return 100\n"
   ]
  },
  {
   "cell_type": "raw",
   "id": "78e56528-2930-419a-8919-a8452534021b",
   "metadata": {},
   "source": [
    "Looks for rules where the consequent matches the goal.\n",
    "\n",
    "If no such rules exist → can’t prove it, certainty is 0%."
   ]
  },
  {
   "cell_type": "code",
   "execution_count": null,
   "id": "fdbc0f2f-8354-4e03-8688-60e05d69bbcd",
   "metadata": {},
   "outputs": [],
   "source": [
    "    applicable_rules = [rule for rule in self.rules if rule['consequent'] == goal]\n",
    "\n",
    "    if not applicable_rules:\n",
    "        print(f\"'{goal}' is unknown. No rules conclude it. (0%)\")\n",
    "        return 0\n"
   ]
  },
  {
   "cell_type": "raw",
   "id": "8c32a80c-dbfa-4697-a22d-ab945afcf388",
   "metadata": {},
   "source": [
    "For each rule:\n",
    "\n",
    "Count how many antecedents (conditions) it has.\n",
    "\n",
    "Divide 100% equally among them (so each condition contributes equally).\n",
    "\n",
    "Example: 4 conditions → each is worth 25%."
   ]
  },
  {
   "cell_type": "code",
   "execution_count": null,
   "id": "c7a8d60a-0ab5-4e2a-bac8-7338e4ff4624",
   "metadata": {},
   "outputs": [],
   "source": [
    "    best_score = 0\n",
    "    for rule in applicable_rules:\n",
    "        ante_count = len(rule['antecedent'])\n",
    "        if ante_count == 0:\n",
    "            continue\n",
    "\n",
    "        weight = 100 / ante_count\n",
    "        score = 0\n"
   ]
  },
  {
   "cell_type": "raw",
   "id": "55d2db79-8e66-4a13-8e79-a658fa5390fd",
   "metadata": {},
   "source": [
    "For each condition:\n",
    "\n",
    "Recursively call infer_backward to try and prove it.\n",
    "\n",
    "If it found a match count its percentage and add its share of certainty to the rule’s score.\n",
    "\n",
    "Example:\n",
    "\n",
    "Rule: IF has_fur AND eats_meat THEN carnivore\n",
    "\n",
    "Antecedents: 2 → each worth 50%.\n",
    "\n",
    "If both facts are known → score = 100%.\n",
    "\n",
    "If only 1 is known → score = 50%."
   ]
  },
  {
   "cell_type": "code",
   "execution_count": null,
   "id": "e16b2b0e-6c0f-42aa-8161-6baa9dd4ac72",
   "metadata": {},
   "outputs": [],
   "source": [
    "        for condition in rule['antecedent']:\n",
    "            condition_score = self.infer_backward(condition, visited.copy())\n",
    "            if condition_score > 0: \n",
    "                score += weight\n"
   ]
  },
  {
   "cell_type": "raw",
   "id": "fedba128-f882-4cb8-a687-ce56213ab2da",
   "metadata": {},
   "source": [
    "Picks the highest confidence score among all rules.\n",
    "\n",
    "If any rule gives 100%, stop checking further."
   ]
  },
  {
   "cell_type": "code",
   "execution_count": null,
   "id": "7211888f-9d89-481c-9b21-91a19d776069",
   "metadata": {},
   "outputs": [],
   "source": [
    "        print(f\"Rule confidence for '{goal}': {score:.2f}%\")\n",
    "        if score > best_score:\n",
    "            best_score = score\n",
    "            if best_score == 100:\n",
    "                break\n"
   ]
  },
  {
   "cell_type": "raw",
   "id": "2347b3e8-dfff-43f8-b49e-a8856707735e",
   "metadata": {},
   "source": [
    "If the goal has some confidence (>0), it’s added to facts for future inference.\n",
    "\n",
    "Returns the best percentage score."
   ]
  },
  {
   "cell_type": "code",
   "execution_count": null,
   "id": "3df7809b-6fc6-4532-9b38-2b707358c7c9",
   "metadata": {},
   "outputs": [],
   "source": [
    "    if best_score > 0:\n",
    "        print(f\"Adding '{goal}' with confidence {best_score:.2f}% to facts.\")\n",
    "        self.facts.add(goal)\n",
    "\n",
    "    return best_score\n"
   ]
  },
  {
   "cell_type": "markdown",
   "id": "b6169511-b85f-43af-b4ee-f0dc19b069c1",
   "metadata": {},
   "source": [
    "#### This function:\n",
    "Checks if the goal is a known fact → 100%.\n",
    "\n",
    "Otherwise, finds rules that could lead to the goal.\n",
    "\n",
    "Splits 100% equally among antecedents.\n",
    "\n",
    "Uses recursion to prove each antecedent.\n",
    "\n",
    "Combines their percentages → the rule’s confidence score.\n",
    "\n",
    "Returns the best score across all rules.\n",
    "\n",
    "\n",
    "\n",
    "\n",
    "#### For example:\n",
    "Facts: has_fur, eats_meat\n",
    "\n",
    "Rule: IF has_fur AND eats_meat AND lives_in_groups THEN lion\n",
    "\n",
    "3 conditions → each worth 33.33%\n",
    "\n",
    "Only 2 are true → confidence = 66.67%\n"
   ]
  },
  {
   "cell_type": "code",
   "execution_count": null,
   "id": "2255a5b6-bd9d-4f69-8509-23d1ed021fd8",
   "metadata": {},
   "outputs": [],
   "source": []
  }
 ],
 "metadata": {
  "kernelspec": {
   "display_name": "Python 3 (ipykernel)",
   "language": "python",
   "name": "python3"
  },
  "language_info": {
   "codemirror_mode": {
    "name": "ipython",
    "version": 3
   },
   "file_extension": ".py",
   "mimetype": "text/x-python",
   "name": "python",
   "nbconvert_exporter": "python",
   "pygments_lexer": "ipython3",
   "version": "3.13.7"
  }
 },
 "nbformat": 4,
 "nbformat_minor": 5
}
